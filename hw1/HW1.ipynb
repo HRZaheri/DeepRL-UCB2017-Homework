{
 "cells": [
  {
   "cell_type": "markdown",
   "metadata": {},
   "source": [
    "# Deep RL Home Work 1\n",
    "\n",
    "_Author: Kay Ke (kayke@uw.edu)_\n",
    "\n",
    "_Update: Sep 13, 2017_\n",
    "\n",
    "The file contains the solution for homework 1 for the [Deep Reinforcement Learning Course](http://rll.berkeley.edu/deeprlcourse/). It trains a simple neural network of 64 units activated by ReLU to conduct Behavioral Cloning and DAgger, which is supervised learning to learn a mapping from a set of observations to actions. \n",
    "\n",
    "Behavior cloning requires a series of experts' observations and their corresponding actions. The homework was offered some experts which will respond to OpenAI gym environment observation. The program will stimulate the expert in such environments and use their behaviors as training data.\n",
    "\n",
    "DAgger requires a trained agent and an expert labeler. In stimulating the trained agent in an environment, the agent will likely deviate from the expert's behavior that it was trained on. As the agent's \"mistakes\" accumulates, the state it ended up will likely to deviate from the \"correct\" path that would happen if the expert has been acting. DAgger asks the expert labeler to inform the correct action along the \"wrong\" path of the agent and aggregate the newly obtained data to train the agent. \n",
    "\n",
    "The program will output several graphs. Fig 1 demonstrates that the behavior cloning is effectly learning the expert behavior, i.e. the trained loss decreases over iterations. Fig 2 compares the changes in loss when the agent is trained with behavior cloning versus DAgger. \n"
   ]
  },
  {
   "cell_type": "code",
   "execution_count": 1,
   "metadata": {
    "collapsed": true
   },
   "outputs": [],
   "source": [
    "# The typical imports\n",
    "%matplotlib inline\n",
    "\n",
    "# DotDict\n",
    "class DotDict(dict):\n",
    "    def __getattr__(self, name):\n",
    "        return self[name]\n",
    "\n",
    "# Pass Arguments\n",
    "args = DotDict({\n",
    "    'batch_size': 128,  # Number of training data for each epoch\n",
    "    'epochs': 50, # Number of epoch in training the model\n",
    "    'envname':'Hopper-v1',  # Environment to stimulate the expert\n",
    "    'expert_policy_file' : 'experts/Hopper-v1.pkl',  # Read expert from file\n",
    "    'num_rollouts' : 5,  # Number of rollouts to play for each iter of training\n",
    "    'render' : False,  # Whether to render the final training result in animation\n",
    "    'max_timesteps' : 300,  # Stop the env after this number of steps being taken\n",
    "    'verbose' : 1,  # Verbose level of program log. 0 = most silent, 3 = all logs\n",
    "})\n",
    "\n",
    "# Generate plt\n",
    "def gen_new_plot(title, ylabel, xlabel):\n",
    "    fig, ax = plt.subplots( nrows=1, ncols=1 )\n",
    "    ax.set_title(title)\n",
    "    ax.set_ylabel(ylabel)\n",
    "    ax.set_xlabel(xlabel)\n",
    "    return ax\n",
    "\n",
    "# Suppress Tensorflow warning complaining about not using certain instruction sets\n",
    "# Arises when not install tensorflow from source\n",
    "import os\n",
    "os.environ['TF_CPP_MIN_LOG_LEVEL']='2'"
   ]
  },
  {
   "cell_type": "code",
   "execution_count": 2,
   "metadata": {},
   "outputs": [
    {
     "name": "stderr",
     "output_type": "stream",
     "text": [
      "Using TensorFlow backend.\n"
     ]
    }
   ],
   "source": [
    "#!/usr/bin/env python\n",
    "\n",
    "\"\"\"\n",
    "Code to load an expert policy and generate roll-out data for behavioral cloning.\n",
    "Example usage:\n",
    "    python run_expert.py experts/Humanoid-v1.pkl Humanoid-v1 --render \\\n",
    "            --num_rollouts 20\n",
    "\n",
    "Author of this script and included expert policies: Jonathan Ho (hoj@openai.com)\n",
    "\n",
    "- The structures (functions, class design) are borrowed from\n",
    "    https://github.com/EbTech/CS294/blob/master/hw1/run_expert.py\n",
    "    just to get familiar with TF + Keras\n",
    "- Kay, 2017 Sep 11.\n",
    "\"\"\"\n",
    "\n",
    "import argparse\n",
    "import gym\n",
    "import load_policy\n",
    "from keras.models import Sequential\n",
    "from keras.layers import Dense\n",
    "import keras\n",
    "import matplotlib.pyplot as plt\n",
    "import numpy as np\n",
    "import pickle\n",
    "import tensorflow as tf\n",
    "import tf_util\n",
    "\n",
    "# Immitation Learning: learn a mapping from observations to actions.\n",
    "class Agent:\n",
    "    def __init__(self, dim):\n",
    "        self.model = Sequential();\n",
    "        self.model.add(Dense(64, input_dim=dim[0], activation='relu'))\n",
    "        self.model.add(Dense(units=dim[1]))\n",
    "        self.model.compile(loss='mse', optimizer='sgd')\n",
    "        self.history = []\n",
    "        self.rewards = []\n",
    "    \n",
    "    def clone(self, otherAgent):\n",
    "        self.model.set_weights(otherAgent.model.get_weights())\n",
    "        # Alternative way to clone the model:\n",
    "        # Yet it does not seem to copy the exact model weight and make comparison\n",
    "        # harder. \n",
    "        # self.model =keras.models.clone_model(otherAgent.model)\n",
    "        # self.model.compile(loss='mse', optimizer='sgd')\n",
    "\n",
    "    def train(self, training_data, batch_size, epochs, verbose):\n",
    "        if (verbose > 1):\n",
    "            print(\"Train the agent with %i training data, batch_size %i, epochs %i\"\n",
    "                  % (training_data[0].shape[0], batch_size, epochs))\n",
    "        history = self.model.fit(training_data[0], training_data[1],\n",
    "                                 batch_size, epochs, max(verbose-1, 0))\n",
    "        self.history.append(np.mean(history.history['loss']))\n",
    "        if (verbose > 1):\n",
    "            print(\"Training loss at last epoch %f\" % \n",
    "                  np.mean(self.history[-1]))\n",
    "    \n",
    "    def clear_training_history(self):\n",
    "        self.history = []\n",
    "\n",
    "    def act(self, obs):\n",
    "        X = np.expand_dims(obs, 0)\n",
    "        return self.model.predict(X, batch_size=200, verbose=0)\n",
    "    \n",
    "    def record_reward(self, reward):\n",
    "        self.rewards.append(np.mean(reward))\n",
    "\n",
    "# Simple wrapper around policy function to have an act function\n",
    "class Expert:\n",
    "    def __init__(self, expert_policy_file):\n",
    "        print('loading and building expert policy')\n",
    "        self.policy_fn = load_policy.load_policy(expert_policy_file)\n",
    "        print('loaded and built')\n",
    "\n",
    "    def act(self, obs):\n",
    "        return self.policy_fn(obs[None,:])\n",
    "    \n",
    "    def record_reward(self, reward):\n",
    "        pass\n",
    "\n",
    "# Environment wrapper, handles Tensorflow session\n",
    "class Stimulator:\n",
    "    def __init__(self, envname):\n",
    "        self.init(envname)\n",
    "        self.envname = envname\n",
    "        \n",
    "    def init(self, envname):\n",
    "        self.session = tf.Session()\n",
    "        self.session.run(tf.global_variables_initializer())\n",
    "        self.env = gym.make(envname)\n",
    "    \n",
    "    def stimulate(self, agent, max_steps, num_rollouts, render, verbose):\n",
    "        with self.session.as_default():\n",
    "            returns = []\n",
    "            observations = []\n",
    "            actions = []\n",
    "            for i in range(num_rollouts):\n",
    "                if verbose > 1:\n",
    "                    print('iter', i)\n",
    "                obs = self.env.reset()\n",
    "                done = False\n",
    "                totalr = 0.\n",
    "                steps = 0\n",
    "                while not done:\n",
    "                    action = agent.act(obs)\n",
    "                    observations.append(obs)\n",
    "                    actions.append(np.squeeze(action))\n",
    "                    obs, r, done, _ = self.env.step(action)\n",
    "                    totalr += r\n",
    "                    steps += 1\n",
    "                    if render:\n",
    "                        self.env.render()\n",
    "                    if steps % 100 == 0 and verbose > 1:\n",
    "                        print(\"%i/%i\"%(steps, max_steps))\n",
    "                    if steps >= max_steps:\n",
    "                        break\n",
    "                if verbose > 2 and steps < max_steps:\n",
    "                    print('Died prematurely at step %i' % steps)\n",
    "                if verbose > 1:\n",
    "                    print('rollout %i/%i return=%f' % (i+1, num_rollouts, totalr))\n",
    "                returns.append(totalr)\n",
    "            if verbose > 0:\n",
    "                print('Return summary: mean=%f, std=%f' % (np.mean(returns), np.std(returns)))\n",
    "            agent.record_reward(returns)\n",
    "            return (np.array(observations), np.array(actions))\n",
    "    \n",
    "    def label_obs(self, expert, obs):\n",
    "        with self.session.as_default():\n",
    "            return expert.policy_fn(stimulated_env)\n",
    "    \n",
    "    def close(self):\n",
    "        self.session.close()\n",
    "        \n",
    "    def reset(self):\n",
    "        self.close()\n",
    "        self.init(self.envname)\n",
    "\n",
    "# Parsing argument to main\n",
    "def parse_argument():\n",
    "    parser = argparse.ArgumentParser()\n",
    "    parser.add_argument('expert_policy_file', type=str)\n",
    "    parser.add_argument('envname', type=str)\n",
    "    parser.add_argument('--render', action='store_true')\n",
    "    parser.add_argument(\"--max_timesteps\", type=int, default=500)\n",
    "    parser.add_argument('--num_rollouts', type=int, default=1,\n",
    "                        help='Number of expert roll outs')\n",
    "    parser.add_argument('-v', '--verbose', type=int, choices=[0, 1, 2], default=1)\n",
    "\n",
    "    return parser.parse_args()"
   ]
  },
  {
   "cell_type": "code",
   "execution_count": 3,
   "metadata": {},
   "outputs": [
    {
     "name": "stdout",
     "output_type": "stream",
     "text": [
      "loading and building expert policy\n",
      "obs (1, 11) (1, 11)\n",
      "loaded and built\n"
     ]
    }
   ],
   "source": [
    "# Load Expert\n",
    "expert = Expert(args.expert_policy_file)"
   ]
  },
  {
   "cell_type": "code",
   "execution_count": 4,
   "metadata": {},
   "outputs": [
    {
     "name": "stderr",
     "output_type": "stream",
     "text": [
      "[2017-09-13 22:54:49,264] Making new env: Hopper-v1\n"
     ]
    }
   ],
   "source": [
    "# Generate training data\n",
    "stimulator = Stimulator(args.envname)\n",
    "training_data = stimulator.stimulate(expert, max_steps=args.max_timesteps, num_rollouts=args.num_rollouts, render=False, verbose=0)"
   ]
  },
  {
   "cell_type": "code",
   "execution_count": 5,
   "metadata": {},
   "outputs": [],
   "source": [
    "# Create agent\n",
    "dim = (training_data[0].shape[-1], training_data[1].shape[-1])\n",
    "agent_bclone = Agent(dim)\n",
    "agent_bclone.train(training_data, batch_size=args.batch_size, epochs=args.epochs, verbose=args.verbose)\n",
    "agent_dagger = Agent(dim)\n",
    "agent_dagger.clone(agent_bclone)"
   ]
  },
  {
   "cell_type": "code",
   "execution_count": 6,
   "metadata": {},
   "outputs": [
    {
     "data": {
      "image/png": "[encoded data removed]",
      "text/plain": [
       "<matplotlib.figure.Figure at 0x118fd1a90>"
      ]
     },
     "metadata": {},
     "output_type": "display_data"
    }
   ],
   "source": [
    "# Produce a figure illustrating the progress of behavior cloning\n",
    "ax1 = gen_new_plot('Training Loss', 'Train Loss', 'Epoch')\n",
    "ax1.plot(agent_bclone.history)\n",
    "plt.show()"
   ]
  },
  {
   "cell_type": "code",
   "execution_count": 7,
   "metadata": {},
   "outputs": [
    {
     "name": "stderr",
     "output_type": "stream",
     "text": [
      "[2017-09-13 22:54:51,657] Making new env: Hopper-v1\n"
     ]
    },
    {
     "name": "stdout",
     "output_type": "stream",
     "text": [
      "Train Behavior Cloning, iter 2\n",
      "Return summary: mean=21.963512, std=3.925697\n",
      "Train Behavior Cloning, iter 3\n",
      "Return summary: mean=22.002487, std=0.753213\n",
      "Train Behavior Cloning, iter 4\n",
      "Return summary: mean=21.888009, std=2.911796\n",
      "Train Behavior Cloning, iter 5\n",
      "Return summary: mean=22.866119, std=0.785567\n",
      "Train Behavior Cloning, iter 6\n",
      "Return summary: mean=23.201122, std=0.510456\n",
      "Train Behavior Cloning, iter 7\n",
      "Return summary: mean=21.396254, std=5.142039\n",
      "Train Behavior Cloning, iter 8\n",
      "Return summary: mean=23.273546, std=0.349647\n",
      "Train Behavior Cloning, iter 9\n",
      "Return summary: mean=23.649385, std=0.631291\n",
      "Train Behavior Cloning, iter 10\n",
      "Return summary: mean=22.214523, std=0.910045\n"
     ]
    }
   ],
   "source": [
    "# Train Behavior Cloning Agent\n",
    "stimulator.reset()\n",
    "agent_bclone.clear_training_history()\n",
    "for i in range(2, 11):\n",
    "    print(\"Train Behavior Cloning, iter %i\" % i)\n",
    "    _ = stimulator.stimulate(agent_bclone, max_steps=args.max_timesteps, num_rollouts=args.num_rollouts, render=False, verbose=args.verbose)\n",
    "    training_data = stimulator.stimulate(expert, max_steps=args.max_timesteps, num_rollouts=args.num_rollouts, render=False, verbose=0)\n",
    "    agent_bclone.train(training_data, batch_size=args.batch_size, epochs=args.epochs, verbose=0)"
   ]
  },
  {
   "cell_type": "code",
   "execution_count": 8,
   "metadata": {},
   "outputs": [
    {
     "name": "stderr",
     "output_type": "stream",
     "text": [
      "[2017-09-13 22:55:05,245] Making new env: Hopper-v1\n"
     ]
    },
    {
     "name": "stdout",
     "output_type": "stream",
     "text": [
      "Train with DAgger, iter 2\n",
      "Return summary: mean=4.148805, std=0.311949\n",
      "Train with DAgger, iter 3\n",
      "Return summary: mean=69.804884, std=1.363455\n",
      "Train with DAgger, iter 4\n",
      "Return summary: mean=92.834917, std=1.686580\n",
      "Train with DAgger, iter 5\n",
      "Return summary: mean=126.755704, std=2.615734\n",
      "Train with DAgger, iter 6\n",
      "Return summary: mean=189.903803, std=9.690247\n",
      "Train with DAgger, iter 7\n",
      "Return summary: mean=63.041339, std=1.783935\n",
      "Train with DAgger, iter 8\n",
      "Return summary: mean=218.805218, std=0.680470\n",
      "Train with DAgger, iter 9\n",
      "Return summary: mean=86.590354, std=2.597334\n",
      "Train with DAgger, iter 10\n",
      "Return summary: mean=264.711621, std=2.297312\n"
     ]
    }
   ],
   "source": [
    "# Train DAgger Agent\n",
    "stimulator.reset()\n",
    "for i in range(2, 11):\n",
    "    print(\"Train with DAgger, iter %i\" % i)\n",
    "    (stimulated_env, _) = stimulator.stimulate(agent_dagger, max_steps=args.max_timesteps, num_rollouts=args.num_rollouts, render=False, verbose=args.verbose)\n",
    "    labels = stimulator.label_obs(expert, stimulated_env)\n",
    "    with stimulator.session.as_default():\n",
    "        agent_dagger.train((stimulated_env, labels), batch_size=args.batch_size, epochs=args.epochs, verbose=0)"
   ]
  },
  {
   "cell_type": "code",
   "execution_count": 9,
   "metadata": {},
   "outputs": [
    {
     "data": {
      "text/plain": [
       "<matplotlib.legend.Legend at 0x11e5f3b00>"
      ]
     },
     "execution_count": 9,
     "metadata": {},
     "output_type": "execute_result"
    },
    {
     "data": {
      "image/png": "[encoded data removed]",
      "text/plain": [
       "<matplotlib.figure.Figure at 0x11891a0b8>"
      ]
     },
     "metadata": {},
     "output_type": "display_data"
    }
   ],
   "source": [
    "ax2 = gen_new_plot('Model Loss', 'Train Loss', 'Epoch')\n",
    "ax2.plot(agent_bclone.history, label='Behavior Cloning')\n",
    "ax2.plot(agent_dagger.history, label='DAgger')\n",
    "ax2.legend()"
   ]
  },
  {
   "cell_type": "code",
   "execution_count": 10,
   "metadata": {},
   "outputs": [
    {
     "data": {
      "text/plain": [
       "<matplotlib.legend.Legend at 0x11e656358>"
      ]
     },
     "execution_count": 10,
     "metadata": {},
     "output_type": "execute_result"
    },
    {
     "data": {
      "image/png": "[encoded data removed]",
      "text/plain": [
       "<matplotlib.figure.Figure at 0x11e595198>"
      ]
     },
     "metadata": {},
     "output_type": "display_data"
    }
   ],
   "source": [
    "ax3 = gen_new_plot('Model Return', 'Stimulated Return', 'Epoch')\n",
    "ax3.plot(agent_bclone.rewards, label='Behavior Cloning')\n",
    "ax3.plot(agent_dagger.rewards, label='DAgger')\n",
    "ax3.legend()"
   ]
  },
  {
   "cell_type": "code",
   "execution_count": 11,
   "metadata": {},
   "outputs": [
    {
     "name": "stdout",
     "output_type": "stream",
     "text": [
      "Return summary: mean=22.981717, std=1.338693\n",
      "Return summary: mean=135.170767, std=4.757553\n"
     ]
    }
   ],
   "source": [
    "_ = stimulator.stimulate(agent_bclone, args.max_timesteps, args.num_rollouts, args.render, verbose=max(1,args.verbose))\n",
    "_ = stimulator.stimulate(agent_dagger, args.max_timesteps, args.num_rollouts, args.render, verbose=max(1,args.verbose))"
   ]
  },
  {
   "cell_type": "markdown",
   "metadata": {},
   "source": [
    "From the result of stimulation, we can conclude that DAgger agent behaves better in terms of reward than the Behavior Cloning agent."
   ]
  }
 ],
 "metadata": {
  "kernelspec": {
   "display_name": "Python 3",
   "language": "python",
   "name": "python3"
  },
  "language_info": {
   "codemirror_mode": {
    "name": "ipython",
    "version": 3
   },
   "file_extension": ".py",
   "mimetype": "text/x-python",
   "name": "python",
   "nbconvert_exporter": "python",
   "pygments_lexer": "ipython3",
   "version": "3.5.4"
  }
 },
 "nbformat": 4,
 "nbformat_minor": 2
}
